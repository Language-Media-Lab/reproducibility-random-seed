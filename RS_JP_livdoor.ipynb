{
  "cells": [
    {
      "cell_type": "code",
      "execution_count": null,
      "metadata": {
        "colab": {
          "base_uri": "https://localhost:8080/"
        },
        "id": "h0z0HEbKBFX1",
        "outputId": "a1bcc277-7733-46fe-ff5d-49c48d2e875b"
      },
      "outputs": [
        {
          "output_type": "stream",
          "name": "stdout",
          "text": [
            "Mounted at /content/drive\n"
          ]
        }
      ],
      "source": [
        "from google.colab import drive\n",
        "drive.mount('/content/drive')"
      ]
    },
    {
      "cell_type": "code",
      "execution_count": null,
      "metadata": {
        "colab": {
          "base_uri": "https://localhost:8080/"
        },
        "id": "RGi2DUNfBgg1",
        "outputId": "cdb42504-6c1d-4d82-a0fb-05687c57ef22"
      },
      "outputs": [
        {
          "output_type": "stream",
          "name": "stdout",
          "text": [
            "Mon Dec 20 14:15:43 2021       \n",
            "+-----------------------------------------------------------------------------+\n",
            "| NVIDIA-SMI 495.44       Driver Version: 460.32.03    CUDA Version: 11.2     |\n",
            "|-------------------------------+----------------------+----------------------+\n",
            "| GPU  Name        Persistence-M| Bus-Id        Disp.A | Volatile Uncorr. ECC |\n",
            "| Fan  Temp  Perf  Pwr:Usage/Cap|         Memory-Usage | GPU-Util  Compute M. |\n",
            "|                               |                      |               MIG M. |\n",
            "|===============================+======================+======================|\n",
            "|   0  Tesla V100-SXM2...  Off  | 00000000:00:04.0 Off |                    0 |\n",
            "| N/A   33C    P0    22W / 300W |      0MiB / 16160MiB |      0%      Default |\n",
            "|                               |                      |                  N/A |\n",
            "+-------------------------------+----------------------+----------------------+\n",
            "                                                                               \n",
            "+-----------------------------------------------------------------------------+\n",
            "| Processes:                                                                  |\n",
            "|  GPU   GI   CI        PID   Type   Process name                  GPU Memory |\n",
            "|        ID   ID                                                   Usage      |\n",
            "|=============================================================================|\n",
            "|  No running processes found                                                 |\n",
            "+-----------------------------------------------------------------------------+\n"
          ]
        }
      ],
      "source": [
        "!nvidia-smi"
      ]
    },
    {
      "cell_type": "code",
      "execution_count": null,
      "metadata": {
        "colab": {
          "base_uri": "https://localhost:8080/"
        },
        "id": "TgH6BBDdBy1P",
        "outputId": "ab776a00-2934-4106-a13b-0192aef69c21"
      },
      "outputs": [
        {
          "output_type": "stream",
          "name": "stdout",
          "text": [
            "/content/drive/MyDrive\n",
            "/content/drive/.shortcut-targets-by-id/1W1pyPI5FYlxYmurR3t7HFnyoxEoFRq_l/rs_study\n"
          ]
        }
      ],
      "source": [
        "%cd drive/MyDrive\n",
        "%cd rs_study"
      ]
    },
    {
      "cell_type": "code",
      "execution_count": null,
      "metadata": {
        "id": "v3FxryDHCG8r",
        "colab": {
          "base_uri": "https://localhost:8080/"
        },
        "outputId": "f3c19fea-b755-47b9-f673-27dded181b32"
      },
      "outputs": [
        {
          "output_type": "stream",
          "name": "stdout",
          "text": [
            "Requirement already satisfied: transformers==4.12.5 in /usr/local/lib/python3.7/dist-packages (4.12.5)\n",
            "Requirement already satisfied: fugashi==1.1.0 in /usr/local/lib/python3.7/dist-packages (1.1.0)\n",
            "Requirement already satisfied: ipadic==1.0.0 in /usr/local/lib/python3.7/dist-packages (1.0.0)\n",
            "Requirement already satisfied: sentencepiece in /usr/local/lib/python3.7/dist-packages (0.1.96)\n",
            "Requirement already satisfied: fastprogress in /usr/local/lib/python3.7/dist-packages (1.0.0)\n",
            "Requirement already satisfied: huggingface-hub<1.0,>=0.1.0 in /usr/local/lib/python3.7/dist-packages (from transformers==4.12.5) (0.2.1)\n",
            "Requirement already satisfied: regex!=2019.12.17 in /usr/local/lib/python3.7/dist-packages (from transformers==4.12.5) (2019.12.20)\n",
            "Requirement already satisfied: tokenizers<0.11,>=0.10.1 in /usr/local/lib/python3.7/dist-packages (from transformers==4.12.5) (0.10.3)\n",
            "Requirement already satisfied: importlib-metadata in /usr/local/lib/python3.7/dist-packages (from transformers==4.12.5) (4.8.2)\n",
            "Requirement already satisfied: packaging>=20.0 in /usr/local/lib/python3.7/dist-packages (from transformers==4.12.5) (21.3)\n",
            "Requirement already satisfied: sacremoses in /usr/local/lib/python3.7/dist-packages (from transformers==4.12.5) (0.0.46)\n",
            "Requirement already satisfied: tqdm>=4.27 in /usr/local/lib/python3.7/dist-packages (from transformers==4.12.5) (4.62.3)\n",
            "Requirement already satisfied: pyyaml>=5.1 in /usr/local/lib/python3.7/dist-packages (from transformers==4.12.5) (6.0)\n",
            "Requirement already satisfied: requests in /usr/local/lib/python3.7/dist-packages (from transformers==4.12.5) (2.23.0)\n",
            "Requirement already satisfied: numpy>=1.17 in /usr/local/lib/python3.7/dist-packages (from transformers==4.12.5) (1.19.5)\n",
            "Requirement already satisfied: filelock in /usr/local/lib/python3.7/dist-packages (from transformers==4.12.5) (3.4.0)\n",
            "Requirement already satisfied: typing-extensions>=3.7.4.3 in /usr/local/lib/python3.7/dist-packages (from huggingface-hub<1.0,>=0.1.0->transformers==4.12.5) (3.10.0.2)\n",
            "Requirement already satisfied: pyparsing!=3.0.5,>=2.0.2 in /usr/local/lib/python3.7/dist-packages (from packaging>=20.0->transformers==4.12.5) (3.0.6)\n",
            "Requirement already satisfied: zipp>=0.5 in /usr/local/lib/python3.7/dist-packages (from importlib-metadata->transformers==4.12.5) (3.6.0)\n",
            "Requirement already satisfied: urllib3!=1.25.0,!=1.25.1,<1.26,>=1.21.1 in /usr/local/lib/python3.7/dist-packages (from requests->transformers==4.12.5) (1.24.3)\n",
            "Requirement already satisfied: idna<3,>=2.5 in /usr/local/lib/python3.7/dist-packages (from requests->transformers==4.12.5) (2.10)\n",
            "Requirement already satisfied: certifi>=2017.4.17 in /usr/local/lib/python3.7/dist-packages (from requests->transformers==4.12.5) (2021.10.8)\n",
            "Requirement already satisfied: chardet<4,>=3.0.2 in /usr/local/lib/python3.7/dist-packages (from requests->transformers==4.12.5) (3.0.4)\n",
            "Requirement already satisfied: joblib in /usr/local/lib/python3.7/dist-packages (from sacremoses->transformers==4.12.5) (1.1.0)\n",
            "Requirement already satisfied: six in /usr/local/lib/python3.7/dist-packages (from sacremoses->transformers==4.12.5) (1.15.0)\n",
            "Requirement already satisfied: click in /usr/local/lib/python3.7/dist-packages (from sacremoses->transformers==4.12.5) (7.1.2)\n"
          ]
        }
      ],
      "source": [
        "!pip install transformers==4.12.5 fugashi==1.1.0 ipadic==1.0.0 sentencepiece fastprogress"
      ]
    },
    {
      "cell_type": "code",
      "execution_count": null,
      "metadata": {
        "id": "kOz2bkuCCKzi"
      },
      "outputs": [],
      "source": [
        "import random\n",
        "import glob\n",
        "import pickle\n",
        "# from tqdm.auto import tqdm, trange\n",
        "from fastprogress.fastprogress import master_bar, progress_bar\n",
        "import numpy as np\n",
        "import torch\n",
        "from torch import nn\n",
        "from torch.utils.data import DataLoader\n",
        "from transformers import AutoTokenizer, AutoModelForSequenceClassification,AutoConfig,AdamW,T5Tokenizer\n",
        "from sklearn.metrics import classification_report\n",
        "from sklearn.model_selection import train_test_split\n",
        "# import pytorch_lightning as pl\n",
        "\n",
        "def fix_seed(seed):\n",
        "    random.seed(seed)\n",
        "    np.random.seed(seed)\n",
        "    torch.manual_seed(seed)\n",
        "    torch.cuda.manual_seed_all(seed)\n",
        "    torch.backends.cudnn.deterministic = True\n",
        "seed = 0\n",
        "fix_seed(seed)\n",
        "device = torch.device(\"cuda:0\" if torch.cuda.is_available() else \"cpu\")"
      ]
    },
    {
      "cell_type": "code",
      "execution_count": null,
      "metadata": {
        "id": "DoqILLv4FgeM"
      },
      "outputs": [],
      "source": [
        "#データのダウンロード\n",
        "!wget https://www.rondhuit.com/download/ldcc-20140209.tar.gz \n",
        "#ファイルの解凍\n",
        "!tar -zxf ldcc-20140209.tar.gz "
      ]
    },
    {
      "cell_type": "code",
      "execution_count": null,
      "metadata": {
        "id": "cgux6EdvFieK"
      },
      "outputs": [],
      "source": [
        "!cat ./text/it-life-hack/it-life-hack-6342280.txt # ファイルを表示"
      ]
    },
    {
      "cell_type": "code",
      "execution_count": null,
      "metadata": {
        "id": "oN8-NI3RG-H0"
      },
      "outputs": [],
      "source": [
        "category_list = [\n",
        "    'dokujo-tsushin',\n",
        "    'it-life-hack',\n",
        "    'kaden-channel',\n",
        "    'livedoor-homme',\n",
        "    'movie-enter',\n",
        "    'peachy',\n",
        "    'smax',\n",
        "    'sports-watch',\n",
        "    'topic-news'\n",
        "]"
      ]
    },
    {
      "cell_type": "code",
      "execution_count": null,
      "metadata": {
        "id": "LbfKJvTLcs--"
      },
      "outputs": [],
      "source": [
        "def train(model,loader):\n",
        "    model.train() \n",
        "    train_loss = 0\n",
        "    for batch in loader:\n",
        "        b_input_ids = batch['input_ids'].to(device)\n",
        "        b_input_mask = batch['attention_mask'].to(device)\n",
        "        b_labels = batch['labels'].to(device)\n",
        "        optimizer.zero_grad()\n",
        "        output = model(b_input_ids,\n",
        "                      attention_mask=b_input_mask, \n",
        "                      labels=b_labels)\n",
        "        loss = output[0]\n",
        "        loss = loss.to(torch.float32)\n",
        "        loss.backward()\n",
        "        torch.nn.utils.clip_grad_norm_(model.parameters(), 1.0)\n",
        "        optimizer.step()\n",
        "        train_loss += loss\n",
        "    return train_loss\n",
        "\n",
        "\n",
        "def validation(model,loader):\n",
        "    model.eval()\n",
        "    val_loss = 0\n",
        "    with torch.no_grad(): \n",
        "        for batch in loader:\n",
        "            b_input_ids = batch['input_ids'].to(device)\n",
        "            b_input_mask = batch['attention_mask'].to(device)\n",
        "            b_labels = batch['labels'].to(device)\n",
        "\n",
        "            output = model(b_input_ids, \n",
        "                          attention_mask=b_input_mask,\n",
        "                          labels=b_labels)\n",
        "            val_loss += output[0]\n",
        "    return val_loss\n",
        "\n",
        "def test_report(model,loader):\n",
        "    pred_result = []\n",
        "    true_result = []\n",
        "    model.eval()\n",
        "    with torch.no_grad():\n",
        "      for batch in loader:\n",
        "            b_input_ids = batch['input_ids'].to(device)\n",
        "            b_input_mask = batch['attention_mask'].to(device)\n",
        "            b_labels = batch['labels'].to(device)\n",
        "            \n",
        "            output = model(b_input_ids, \n",
        "                            attention_mask=b_input_mask,\n",
        "                            labels=b_labels)\n",
        "            pred_labels = [np.argmax(pred.to('cpu').detach().numpy()) for pred in output[1]]\n",
        "            pred_result.extend(pred_labels)\n",
        "            true_result.extend(batch['labels'])\n",
        "    return classification_report(true_result,pred_result,output_dict=True)"
      ]
    },
    {
      "cell_type": "code",
      "execution_count": null,
      "metadata": {
        "id": "EhzdG5YtMw-W"
      },
      "outputs": [],
      "source": [
        "# 参照 https://qiita.com/ku_a_i/items/ba33c9ce3449da23b503\n",
        "\n",
        "class EarlyStopping:\n",
        "    \"\"\"earlystoppingクラス\"\"\"\n",
        "\n",
        "    def __init__(self, patience=5, verbose=False, path='checkpoint_model.pth', threshold=10000):\n",
        "        \"\"\"引数：最小値の非更新数カウンタ、表示設定、モデル格納path\"\"\"\n",
        "\n",
        "        self.patience = patience    #設定ストップカウンタ\n",
        "        self.verbose = verbose      #表示の有無\n",
        "        self.counter = 0            #現在のカウンタ値\n",
        "        self.best_score = None      #ベストスコア\n",
        "        self.early_stop = False     #ストップフラグ\n",
        "        self.val_loss_min = np.Inf   #前回のベストスコア記憶用\n",
        "        self.path = path             #ベストモデル格納path\n",
        "        self.tloss_th = threshold   #学習ロスの閾値（指定しない場合は10000になり，事実上閾値なし）\n",
        "\n",
        "    def __call__(self, train_loss, val_loss, model):\n",
        "        \"\"\"\n",
        "        特殊(call)メソッド\n",
        "        実際に学習ループ内で最小lossを更新したか否かを計算させる部分\n",
        "        \"\"\"\n",
        "        score = -val_loss\n",
        "\n",
        "\n",
        "        if self.best_score is None or train_loss>self.tloss_th:  #1Epoch目または閾値以上での処理\n",
        "            self.best_score = score   #1Epoch目はそのままベストスコアとして記録する\n",
        "            self.checkpoint(val_loss, model)  #記録後にモデルを保存してスコア表示する\n",
        "        elif score < self.best_score:  # ベストスコアを更新できなかった場合\n",
        "            self.counter += 1   #ストップカウンタを+1\n",
        "            if self.verbose:  #表示を有効にした場合は経過を表示\n",
        "                print(f'EarlyStopping counter: {self.counter} out of {self.patience}')  #現在のカウンタを表示する \n",
        "            if self.counter >= self.patience:  #設定カウントを上回ったらストップフラグをTrueに変更\n",
        "                self.early_stop = True\n",
        "        else:  #ベストスコアを更新した場合\n",
        "            self.best_score = score  #ベストスコアを上書き\n",
        "            self.checkpoint(val_loss, model)  #モデルを保存してスコア表示\n",
        "            self.counter = 0  #ストップカウンタリセット\n",
        "\n",
        "    def checkpoint(self, val_loss, model):\n",
        "        '''ベストスコア更新時に実行されるチェックポイント関数'''\n",
        "        if self.verbose:  #表示を有効にした場合は、前回のベストスコアからどれだけ更新したか？を表示\n",
        "            print(f'Validation loss decreased ({self.val_loss_min:.6f} --> {val_loss:.6f}).  Saving model ...')\n",
        "        torch.save(model.state_dict(), self.path)  #ベストモデルを指定したpathに保存\n",
        "        self.val_loss_min = val_loss  #その時のlossを記録する"
      ]
    },
    {
      "cell_type": "code",
      "source": [
        "def plot_loss_update(epoch, epochs, mb, train_loss, valid_loss):\n",
        "    \"\"\" dynamically print the loss plot during the training/validation loop.\n",
        "        expects epoch to start from 1.\n",
        "    \"\"\"\n",
        "    x = range(1, epoch+1)\n",
        "    y = np.concatenate((train_loss, valid_loss))\n",
        "    graphs = [[x,train_loss], [x,valid_loss]]\n",
        "    x_margin = 0.2\n",
        "    y_margin = 0.05\n",
        "    x_bounds = [1-x_margin, epochs+x_margin]\n",
        "    y_bounds = [np.min(y)-y_margin, np.max(y)+y_margin]\n",
        "\n",
        "    mb.update_graph(graphs, x_bounds, y_bounds)"
      ],
      "metadata": {
        "id": "Ap6pgP97PXN6"
      },
      "execution_count": null,
      "outputs": []
    },
    {
      "cell_type": "markdown",
      "metadata": {
        "id": "a4jcc28nPLYF"
      },
      "source": [
        "# DistilBERT"
      ]
    },
    {
      "cell_type": "code",
      "execution_count": null,
      "metadata": {
        "id": "HGxYDEm5ElcJ"
      },
      "outputs": [],
      "source": [
        "MODEL_NAME=\"bandainamco-mirai/distilbert-base-japanese\"\n",
        "# MODEL_NAME = \"cl-tohoku/bert-base-japanese-whole-word-masking\"\n",
        "# MODEL_NAME = \"rinna/japanese-roberta-base\""
      ]
    },
    {
      "cell_type": "markdown",
      "metadata": {
        "id": "CMA8yA-BEpVn"
      },
      "source": [
        "##トークン化"
      ]
    },
    {
      "cell_type": "code",
      "execution_count": null,
      "metadata": {
        "id": "Wq0Xtk2DbRKo"
      },
      "outputs": [],
      "source": [
        "# トークナイザのロード\n",
        "if MODEL_NAME ==\"bandainamco-mirai/distilbert-base-japanese\":\n",
        "  tokenizer = AutoTokenizer.from_pretrained('cl-tohoku/bert-base-japanese-whole-word-masking')\n",
        "elif MODEL_NAME== \"rinna/japanese-roberta-base\":\n",
        "  tokenizer = T5Tokenizer.from_pretrained(\"rinna/japanese-roberta-base\")\n",
        "else:\n",
        "  tokenizer = AutoTokenizer.from_pretrained(MODEL_NAME)\n",
        "\n",
        "# 各データの形式を整える\n",
        "max_length = 256\n",
        "dataset_for_loader = []\n",
        "for label, category in enumerate(tqdm(category_list)):\n",
        "    for file in glob.glob(f'./text/{category}/{category}*'):\n",
        "        lines = open(file).read().splitlines()\n",
        "        text = '\\n'.join(lines[3:]) # ファイルの4行目からを抜き出す。\n",
        "        encoding = tokenizer(\n",
        "            text,\n",
        "            max_length=max_length, \n",
        "            padding='max_length',\n",
        "            truncation=True\n",
        "        )\n",
        "        encoding['labels'] = label # ラベルを追加\n",
        "        encoding = { k: torch.tensor(v) for k, v in encoding.items() }\n",
        "        dataset_for_loader.append(encoding)"
      ]
    },
    {
      "cell_type": "code",
      "execution_count": null,
      "metadata": {
        "id": "uMOOvhLOkyy8"
      },
      "outputs": [],
      "source": [
        "import pickle\n",
        "# with open(\"livedoor_\"+MODEL_NAME.replace(\"/\",\"_\")+\"_tokenized.pkl\",\"wb\") as f:\n",
        "#   pickle.dump(dataset_for_loader,f)\n",
        "\n",
        "with open(\"livedoor_\"+MODEL_NAME.replace(\"/\",\"_\")+\"_tokenized.pkl\",\"rb\") as f:\n",
        "  dataset_for_loader = pickle.load(f)"
      ]
    },
    {
      "cell_type": "code",
      "execution_count": null,
      "metadata": {
        "id": "5yQRYABNJIX1"
      },
      "outputs": [],
      "source": [
        "print(dataset_for_loader[0])"
      ]
    },
    {
      "cell_type": "markdown",
      "metadata": {
        "id": "ZMXgq05AOkAp"
      },
      "source": [
        "## データセットの分割"
      ]
    },
    {
      "cell_type": "code",
      "execution_count": null,
      "metadata": {
        "id": "I0dqekmLKoIo"
      },
      "outputs": [],
      "source": [
        "# データセットの分割\n",
        "fix_seed(0)\n",
        "random.shuffle(dataset_for_loader) # ランダムにシャッフル\n",
        "n = len(dataset_for_loader)\n",
        "n_train = int(0.6*n)\n",
        "n_val = int(0.2*n)+n_train\n",
        "dataset_train = dataset_for_loader[:n_train] # 学習データ\n",
        "dataset_val = dataset_for_loader[n_train:n_val]\n",
        "dataset_test = dataset_for_loader[n_val:] # テストデータ"
      ]
    },
    {
      "cell_type": "markdown",
      "metadata": {
        "id": "WrcABsQ4OnAa"
      },
      "source": [
        "## 学習"
      ]
    },
    {
      "cell_type": "code",
      "execution_count": null,
      "metadata": {
        "id": "TBoYuhcSLB03"
      },
      "outputs": [],
      "source": [
        "all_results={}\n",
        "\n",
        "for n in trange(25):\n",
        "  # print('===== '+str(n)+\" =====\")\n",
        "  fix_seed(n)\n",
        "\n",
        "  earlystopping = EarlyStopping(patience=3, verbose=True)\n",
        "\n",
        "  dataloader_train = DataLoader(\n",
        "      dataset_train, batch_size=32, shuffle=True\n",
        "  ) \n",
        "  dataloader_val = DataLoader(dataset_val, batch_size=256)\n",
        "  dataloader_test = DataLoader(dataset_test, batch_size=256)\n",
        "\n",
        "  # モデルの読み込み\n",
        "  bert_sc = AutoModelForSequenceClassification.from_pretrained(\n",
        "            MODEL_NAME,\n",
        "            num_labels=9,\n",
        "            output_attentions = False,\n",
        "            output_hidden_states = False,\n",
        "        )\n",
        "  bert_sc.cuda()\n",
        "\n",
        "  optimizer = AdamW(bert_sc.parameters(), lr=2e-5)\n",
        "\n",
        "  for epoch in range(30):\n",
        "    # print(\"epoch: \"+str(epoch+1))\n",
        "    train_loss = train(bert_sc,dataloader_train)\n",
        "    val_loss = validation(bert_sc,dataloader_val)\n",
        "    print(\"train loss: \"+str(train_loss))\n",
        "    # print(\"val loss: \"+str(val_loss))\n",
        "\n",
        "    earlystopping(val_loss, bert_sc) #callメソッド呼び出し\n",
        "    if earlystopping.early_stop: #ストップフラグがTrueの場合、breakでforループを抜ける\n",
        "        print(\"Early Stopping!\")\n",
        "        break\n",
        "  bert_sc.load_state_dict(torch.load('checkpoint_model.pth'))\n",
        "  print(\"loaded best model\")\n",
        "  all_results[n]=test_report(bert_sc,dataloader_test)\n",
        "\n",
        "\n",
        "with open(\"testset_\"+MODEL_NAME.replace(\"/\",\"_\")+\"_livedoor.pkl\",\"wb\") as f:\n",
        "  pickle.dump(all_results,f)\n",
        "  print(\"saved tes_list\")"
      ]
    },
    {
      "cell_type": "code",
      "execution_count": null,
      "metadata": {
        "id": "p85Ee-iPrVdW"
      },
      "outputs": [],
      "source": [
        "# import pickle\n",
        "# with open(\"testset_\"+MODEL_NAME.replace(\"/\",\"_\")+\"_livedoor.pkl\",\"wb\") as f:\n",
        "#   pickle.dump(all_results,f)\n",
        "#   print(\"saved tes_list\")"
      ]
    },
    {
      "cell_type": "markdown",
      "metadata": {
        "id": "YQxiaG4qOqG5"
      },
      "source": [
        "## スコア分布"
      ]
    },
    {
      "cell_type": "code",
      "execution_count": null,
      "metadata": {
        "id": "MbAEA54rKsTC"
      },
      "outputs": [],
      "source": [
        "import pickle\n",
        "with open(\"testset_\"+MODEL_NAME.replace(\"/\",\"_\")+\"_livedoor.pkl\",\"rb\")as f:\n",
        "  l = pickle.load(f)"
      ]
    },
    {
      "cell_type": "code",
      "execution_count": null,
      "metadata": {
        "id": "TRwtDk33LAI5"
      },
      "outputs": [],
      "source": [
        "acc_lis = [result['accuracy'] for result in l.values()]\n",
        "import matplotlib.pyplot as plt\n",
        "import seaborn as sns\n",
        "sns.set()"
      ]
    },
    {
      "cell_type": "code",
      "execution_count": null,
      "metadata": {
        "id": "9jbMge2Ydiau"
      },
      "outputs": [],
      "source": [
        "sns.histplot(acc_lis, kde=True)"
      ]
    },
    {
      "cell_type": "code",
      "execution_count": null,
      "metadata": {
        "id": "FXaRNGFGeTRD"
      },
      "outputs": [],
      "source": [
        "from scipy import stats"
      ]
    },
    {
      "cell_type": "code",
      "execution_count": null,
      "metadata": {
        "id": "mfCJeX3Deld3"
      },
      "outputs": [],
      "source": [
        "def interval_estimate(lis,alpha=0.95):\n",
        "  import numpy as np\n",
        "  lis = np.array(lis)\n",
        "  t_dist = stats.t(loc=lis.mean(),scale=np.sqrt(lis.var()/len(lis)),df=len(lis))\n",
        "  return t_dist.interval(alpha=alpha)"
      ]
    },
    {
      "cell_type": "code",
      "execution_count": null,
      "metadata": {
        "colab": {
          "base_uri": "https://localhost:8080/"
        },
        "id": "_m2Owy01e5Mc",
        "outputId": "f7ea9fc5-8c26-467b-ffa2-05278fd068d8"
      },
      "outputs": [
        {
          "data": {
            "text/plain": [
              "(0.9148534452080419, 0.9252189202374579)"
            ]
          },
          "execution_count": 26,
          "metadata": {},
          "output_type": "execute_result"
        }
      ],
      "source": [
        "interval_estimate(acc_lis)"
      ]
    },
    {
      "cell_type": "code",
      "execution_count": null,
      "metadata": {
        "id": "71dsk6B0kW52"
      },
      "outputs": [],
      "source": [
        ""
      ]
    },
    {
      "cell_type": "code",
      "execution_count": null,
      "metadata": {
        "id": "qpz_ibl2Owdq"
      },
      "outputs": [],
      "source": [
        ""
      ]
    },
    {
      "cell_type": "markdown",
      "metadata": {
        "id": "4_K3WQiQPG4A"
      },
      "source": [
        "# BERT"
      ]
    },
    {
      "cell_type": "code",
      "execution_count": null,
      "metadata": {
        "id": "VqPJF1FoOwiR"
      },
      "outputs": [],
      "source": [
        "# MODEL_NAME=\"bandainamco-mirai/distilbert-base-japanese\"\n",
        "MODEL_NAME = \"cl-tohoku/bert-base-japanese-whole-word-masking\"\n",
        "# MODEL_NAME = \"rinna/japanese-roberta-base\""
      ]
    },
    {
      "cell_type": "markdown",
      "metadata": {
        "id": "VBgU4LwZO2Rx"
      },
      "source": [
        "##トークン化"
      ]
    },
    {
      "cell_type": "code",
      "execution_count": null,
      "metadata": {
        "id": "SD90vhU1O2Ry"
      },
      "outputs": [],
      "source": [
        "# トークナイザのロード\n",
        "if MODEL_NAME ==\"bandainamco-mirai/distilbert-base-japanese\":\n",
        "  tokenizer = AutoTokenizer.from_pretrained('cl-tohoku/bert-base-japanese-whole-word-masking')\n",
        "elif MODEL_NAME== \"rinna/japanese-roberta-base\":\n",
        "  tokenizer = T5Tokenizer.from_pretrained(\"rinna/japanese-roberta-base\")\n",
        "else:\n",
        "  tokenizer = AutoTokenizer.from_pretrained(MODEL_NAME)\n",
        "\n",
        "# 各データの形式を整える\n",
        "max_length = 256\n",
        "dataset_for_loader = []\n",
        "for label, category in enumerate(tqdm(category_list)):\n",
        "    for file in glob.glob(f'./text/{category}/{category}*'):\n",
        "        lines = open(file).read().splitlines()\n",
        "        text = '\\n'.join(lines[3:]) # ファイルの4行目からを抜き出す。\n",
        "        encoding = tokenizer(\n",
        "            text,\n",
        "            max_length=max_length, \n",
        "            padding='max_length',\n",
        "            truncation=True\n",
        "        )\n",
        "        encoding['labels'] = label # ラベルを追加\n",
        "        encoding = { k: torch.tensor(v) for k, v in encoding.items() }\n",
        "        dataset_for_loader.append(encoding)"
      ]
    },
    {
      "cell_type": "code",
      "execution_count": null,
      "metadata": {
        "id": "reiJJH1_O2R0"
      },
      "outputs": [],
      "source": [
        "import pickle\n",
        "# with open(\"livedoor_\"+MODEL_NAME.replace(\"/\",\"_\")+\"_tokenized.pkl\",\"wb\") as f:\n",
        "#   pickle.dump(dataset_for_loader,f)\n",
        "\n",
        "with open(\"livedoor_\"+MODEL_NAME.replace(\"/\",\"_\")+\"_tokenized.pkl\",\"rb\") as f:\n",
        "  dataset_for_loader = pickle.load(f)"
      ]
    },
    {
      "cell_type": "code",
      "execution_count": null,
      "metadata": {
        "id": "R1whdg2aO2R0"
      },
      "outputs": [],
      "source": [
        "print(dataset_for_loader[0])"
      ]
    },
    {
      "cell_type": "markdown",
      "metadata": {
        "id": "SonzsZauO2R1"
      },
      "source": [
        "## データセットの分割"
      ]
    },
    {
      "cell_type": "code",
      "execution_count": null,
      "metadata": {
        "id": "5GWcYajUO2R1"
      },
      "outputs": [],
      "source": [
        "# データセットの分割\n",
        "fix_seed(0)\n",
        "random.shuffle(dataset_for_loader) # ランダムにシャッフル\n",
        "n = len(dataset_for_loader)\n",
        "n_train = int(0.6*n)\n",
        "n_val = int(0.2*n)+n_train\n",
        "dataset_train = dataset_for_loader[:n_train] # 学習データ\n",
        "dataset_val = dataset_for_loader[n_train:n_val]\n",
        "dataset_test = dataset_for_loader[n_val:] # テストデータ"
      ]
    },
    {
      "cell_type": "markdown",
      "metadata": {
        "id": "uLbrtSTPO2R2"
      },
      "source": [
        "## 学習"
      ]
    },
    {
      "cell_type": "code",
      "execution_count": null,
      "metadata": {
        "colab": {
          "base_uri": "https://localhost:8080/",
          "height": 1000
        },
        "id": "NtQEB1h2O2R4",
        "outputId": "6e748dae-623d-4f6f-c53d-b4e8d903ad57"
      },
      "outputs": [
        {
          "output_type": "display_data",
          "data": {
            "text/html": [
              "\n",
              "    <div>\n",
              "        <style>\n",
              "            /* Turns off some styling */\n",
              "            progress {\n",
              "                /* gets rid of default border in Firefox and Opera. */\n",
              "                border: none;\n",
              "                /* Needs to be in here for Safari polyfill so background images work as expected. */\n",
              "                background-size: auto;\n",
              "            }\n",
              "            .progress-bar-interrupted, .progress-bar-interrupted::-webkit-progress-bar {\n",
              "                background: #F44336;\n",
              "            }\n",
              "        </style>\n",
              "      <progress value='19' class='' max='25' style='width:300px; height:20px; vertical-align: middle;'></progress>\n",
              "      76.00% [19/25 2:10:32<41:13]\n",
              "    </div>\n",
              "    \n",
              "\n",
              "\n",
              "    <div>\n",
              "        <style>\n",
              "            /* Turns off some styling */\n",
              "            progress {\n",
              "                /* gets rid of default border in Firefox and Opera. */\n",
              "                border: none;\n",
              "                /* Needs to be in here for Safari polyfill so background images work as expected. */\n",
              "                background-size: auto;\n",
              "            }\n",
              "            .progress-bar-interrupted, .progress-bar-interrupted::-webkit-progress-bar {\n",
              "                background: #F44336;\n",
              "            }\n",
              "        </style>\n",
              "      <progress value='6' class='' max='50' style='width:300px; height:20px; vertical-align: middle;'></progress>\n",
              "      12.00% [6/50 03:34<26:15]\n",
              "    </div>\n",
              "    "
            ],
            "text/plain": [
              "<IPython.core.display.HTML object>"
            ]
          },
          "metadata": {}
        },
        {
          "output_type": "stream",
          "name": "stderr",
          "text": [
            "Some weights of the model checkpoint at cl-tohoku/bert-base-japanese-whole-word-masking were not used when initializing BertForSequenceClassification: ['cls.predictions.decoder.weight', 'cls.predictions.transform.LayerNorm.weight', 'cls.predictions.transform.LayerNorm.bias', 'cls.predictions.bias', 'cls.seq_relationship.weight', 'cls.seq_relationship.bias', 'cls.predictions.transform.dense.weight', 'cls.predictions.transform.dense.bias']\n",
            "- This IS expected if you are initializing BertForSequenceClassification from the checkpoint of a model trained on another task or with another architecture (e.g. initializing a BertForSequenceClassification model from a BertForPreTraining model).\n",
            "- This IS NOT expected if you are initializing BertForSequenceClassification from the checkpoint of a model that you expect to be exactly identical (initializing a BertForSequenceClassification model from a BertForSequenceClassification model).\n",
            "Some weights of BertForSequenceClassification were not initialized from the model checkpoint at cl-tohoku/bert-base-japanese-whole-word-masking and are newly initialized: ['classifier.weight', 'classifier.bias']\n",
            "You should probably TRAIN this model on a down-stream task to be able to use it for predictions and inference.\n"
          ]
        },
        {
          "output_type": "display_data",
          "data": {
            "image/png": "[encoded data removed]",
            "text/plain": [
              "<Figure size 432x288 with 1 Axes>"
            ]
          },
          "metadata": {}
        },
        {
          "output_type": "stream",
          "name": "stdout",
          "text": [
            "Early Stopping!\n",
            "loaded best model\n"
          ]
        },
        {
          "output_type": "stream",
          "name": "stderr",
          "text": [
            "Some weights of the model checkpoint at cl-tohoku/bert-base-japanese-whole-word-masking were not used when initializing BertForSequenceClassification: ['cls.predictions.decoder.weight', 'cls.predictions.transform.LayerNorm.weight', 'cls.predictions.transform.LayerNorm.bias', 'cls.predictions.bias', 'cls.seq_relationship.weight', 'cls.seq_relationship.bias', 'cls.predictions.transform.dense.weight', 'cls.predictions.transform.dense.bias']\n",
            "- This IS expected if you are initializing BertForSequenceClassification from the checkpoint of a model trained on another task or with another architecture (e.g. initializing a BertForSequenceClassification model from a BertForPreTraining model).\n",
            "- This IS NOT expected if you are initializing BertForSequenceClassification from the checkpoint of a model that you expect to be exactly identical (initializing a BertForSequenceClassification model from a BertForSequenceClassification model).\n",
            "Some weights of BertForSequenceClassification were not initialized from the model checkpoint at cl-tohoku/bert-base-japanese-whole-word-masking and are newly initialized: ['classifier.weight', 'classifier.bias']\n",
            "You should probably TRAIN this model on a down-stream task to be able to use it for predictions and inference.\n"
          ]
        },
        {
          "output_type": "stream",
          "name": "stdout",
          "text": [
            "Early Stopping!\n",
            "loaded best model\n"
          ]
        },
        {
          "output_type": "stream",
          "name": "stderr",
          "text": [
            "Some weights of the model checkpoint at cl-tohoku/bert-base-japanese-whole-word-masking were not used when initializing BertForSequenceClassification: ['cls.predictions.decoder.weight', 'cls.predictions.transform.LayerNorm.weight', 'cls.predictions.transform.LayerNorm.bias', 'cls.predictions.bias', 'cls.seq_relationship.weight', 'cls.seq_relationship.bias', 'cls.predictions.transform.dense.weight', 'cls.predictions.transform.dense.bias']\n",
            "- This IS expected if you are initializing BertForSequenceClassification from the checkpoint of a model trained on another task or with another architecture (e.g. initializing a BertForSequenceClassification model from a BertForPreTraining model).\n",
            "- This IS NOT expected if you are initializing BertForSequenceClassification from the checkpoint of a model that you expect to be exactly identical (initializing a BertForSequenceClassification model from a BertForSequenceClassification model).\n",
            "Some weights of BertForSequenceClassification were not initialized from the model checkpoint at cl-tohoku/bert-base-japanese-whole-word-masking and are newly initialized: ['classifier.weight', 'classifier.bias']\n",
            "You should probably TRAIN this model on a down-stream task to be able to use it for predictions and inference.\n"
          ]
        },
        {
          "output_type": "stream",
          "name": "stdout",
          "text": [
            "Early Stopping!\n",
            "loaded best model\n"
          ]
        },
        {
          "output_type": "stream",
          "name": "stderr",
          "text": [
            "Some weights of the model checkpoint at cl-tohoku/bert-base-japanese-whole-word-masking were not used when initializing BertForSequenceClassification: ['cls.predictions.decoder.weight', 'cls.predictions.transform.LayerNorm.weight', 'cls.predictions.transform.LayerNorm.bias', 'cls.predictions.bias', 'cls.seq_relationship.weight', 'cls.seq_relationship.bias', 'cls.predictions.transform.dense.weight', 'cls.predictions.transform.dense.bias']\n",
            "- This IS expected if you are initializing BertForSequenceClassification from the checkpoint of a model trained on another task or with another architecture (e.g. initializing a BertForSequenceClassification model from a BertForPreTraining model).\n",
            "- This IS NOT expected if you are initializing BertForSequenceClassification from the checkpoint of a model that you expect to be exactly identical (initializing a BertForSequenceClassification model from a BertForSequenceClassification model).\n",
            "Some weights of BertForSequenceClassification were not initialized from the model checkpoint at cl-tohoku/bert-base-japanese-whole-word-masking and are newly initialized: ['classifier.weight', 'classifier.bias']\n",
            "You should probably TRAIN this model on a down-stream task to be able to use it for predictions and inference.\n"
          ]
        },
        {
          "output_type": "stream",
          "name": "stdout",
          "text": [
            "Early Stopping!\n",
            "loaded best model\n"
          ]
        },
        {
          "output_type": "stream",
          "name": "stderr",
          "text": [
            "Some weights of the model checkpoint at cl-tohoku/bert-base-japanese-whole-word-masking were not used when initializing BertForSequenceClassification: ['cls.predictions.decoder.weight', 'cls.predictions.transform.LayerNorm.weight', 'cls.predictions.transform.LayerNorm.bias', 'cls.predictions.bias', 'cls.seq_relationship.weight', 'cls.seq_relationship.bias', 'cls.predictions.transform.dense.weight', 'cls.predictions.transform.dense.bias']\n",
            "- This IS expected if you are initializing BertForSequenceClassification from the checkpoint of a model trained on another task or with another architecture (e.g. initializing a BertForSequenceClassification model from a BertForPreTraining model).\n",
            "- This IS NOT expected if you are initializing BertForSequenceClassification from the checkpoint of a model that you expect to be exactly identical (initializing a BertForSequenceClassification model from a BertForSequenceClassification model).\n",
            "Some weights of BertForSequenceClassification were not initialized from the model checkpoint at cl-tohoku/bert-base-japanese-whole-word-masking and are newly initialized: ['classifier.weight', 'classifier.bias']\n",
            "You should probably TRAIN this model on a down-stream task to be able to use it for predictions and inference.\n"
          ]
        },
        {
          "output_type": "stream",
          "name": "stdout",
          "text": [
            "Early Stopping!\n",
            "loaded best model\n"
          ]
        },
        {
          "output_type": "stream",
          "name": "stderr",
          "text": [
            "Some weights of the model checkpoint at cl-tohoku/bert-base-japanese-whole-word-masking were not used when initializing BertForSequenceClassification: ['cls.predictions.decoder.weight', 'cls.predictions.transform.LayerNorm.weight', 'cls.predictions.transform.LayerNorm.bias', 'cls.predictions.bias', 'cls.seq_relationship.weight', 'cls.seq_relationship.bias', 'cls.predictions.transform.dense.weight', 'cls.predictions.transform.dense.bias']\n",
            "- This IS expected if you are initializing BertForSequenceClassification from the checkpoint of a model trained on another task or with another architecture (e.g. initializing a BertForSequenceClassification model from a BertForPreTraining model).\n",
            "- This IS NOT expected if you are initializing BertForSequenceClassification from the checkpoint of a model that you expect to be exactly identical (initializing a BertForSequenceClassification model from a BertForSequenceClassification model).\n",
            "Some weights of BertForSequenceClassification were not initialized from the model checkpoint at cl-tohoku/bert-base-japanese-whole-word-masking and are newly initialized: ['classifier.weight', 'classifier.bias']\n",
            "You should probably TRAIN this model on a down-stream task to be able to use it for predictions and inference.\n"
          ]
        },
        {
          "output_type": "stream",
          "name": "stdout",
          "text": [
            "Early Stopping!\n",
            "loaded best model\n"
          ]
        },
        {
          "output_type": "stream",
          "name": "stderr",
          "text": [
            "Some weights of the model checkpoint at cl-tohoku/bert-base-japanese-whole-word-masking were not used when initializing BertForSequenceClassification: ['cls.predictions.decoder.weight', 'cls.predictions.transform.LayerNorm.weight', 'cls.predictions.transform.LayerNorm.bias', 'cls.predictions.bias', 'cls.seq_relationship.weight', 'cls.seq_relationship.bias', 'cls.predictions.transform.dense.weight', 'cls.predictions.transform.dense.bias']\n",
            "- This IS expected if you are initializing BertForSequenceClassification from the checkpoint of a model trained on another task or with another architecture (e.g. initializing a BertForSequenceClassification model from a BertForPreTraining model).\n",
            "- This IS NOT expected if you are initializing BertForSequenceClassification from the checkpoint of a model that you expect to be exactly identical (initializing a BertForSequenceClassification model from a BertForSequenceClassification model).\n",
            "Some weights of BertForSequenceClassification were not initialized from the model checkpoint at cl-tohoku/bert-base-japanese-whole-word-masking and are newly initialized: ['classifier.weight', 'classifier.bias']\n",
            "You should probably TRAIN this model on a down-stream task to be able to use it for predictions and inference.\n"
          ]
        },
        {
          "output_type": "stream",
          "name": "stdout",
          "text": [
            "Early Stopping!\n",
            "loaded best model\n"
          ]
        },
        {
          "output_type": "stream",
          "name": "stderr",
          "text": [
            "Some weights of the model checkpoint at cl-tohoku/bert-base-japanese-whole-word-masking were not used when initializing BertForSequenceClassification: ['cls.predictions.decoder.weight', 'cls.predictions.transform.LayerNorm.weight', 'cls.predictions.transform.LayerNorm.bias', 'cls.predictions.bias', 'cls.seq_relationship.weight', 'cls.seq_relationship.bias', 'cls.predictions.transform.dense.weight', 'cls.predictions.transform.dense.bias']\n",
            "- This IS expected if you are initializing BertForSequenceClassification from the checkpoint of a model trained on another task or with another architecture (e.g. initializing a BertForSequenceClassification model from a BertForPreTraining model).\n",
            "- This IS NOT expected if you are initializing BertForSequenceClassification from the checkpoint of a model that you expect to be exactly identical (initializing a BertForSequenceClassification model from a BertForSequenceClassification model).\n",
            "Some weights of BertForSequenceClassification were not initialized from the model checkpoint at cl-tohoku/bert-base-japanese-whole-word-masking and are newly initialized: ['classifier.weight', 'classifier.bias']\n",
            "You should probably TRAIN this model on a down-stream task to be able to use it for predictions and inference.\n"
          ]
        },
        {
          "output_type": "stream",
          "name": "stdout",
          "text": [
            "Early Stopping!\n",
            "loaded best model\n"
          ]
        },
        {
          "output_type": "stream",
          "name": "stderr",
          "text": [
            "Some weights of the model checkpoint at cl-tohoku/bert-base-japanese-whole-word-masking were not used when initializing BertForSequenceClassification: ['cls.predictions.decoder.weight', 'cls.predictions.transform.LayerNorm.weight', 'cls.predictions.transform.LayerNorm.bias', 'cls.predictions.bias', 'cls.seq_relationship.weight', 'cls.seq_relationship.bias', 'cls.predictions.transform.dense.weight', 'cls.predictions.transform.dense.bias']\n",
            "- This IS expected if you are initializing BertForSequenceClassification from the checkpoint of a model trained on another task or with another architecture (e.g. initializing a BertForSequenceClassification model from a BertForPreTraining model).\n",
            "- This IS NOT expected if you are initializing BertForSequenceClassification from the checkpoint of a model that you expect to be exactly identical (initializing a BertForSequenceClassification model from a BertForSequenceClassification model).\n",
            "Some weights of BertForSequenceClassification were not initialized from the model checkpoint at cl-tohoku/bert-base-japanese-whole-word-masking and are newly initialized: ['classifier.weight', 'classifier.bias']\n",
            "You should probably TRAIN this model on a down-stream task to be able to use it for predictions and inference.\n"
          ]
        },
        {
          "output_type": "stream",
          "name": "stdout",
          "text": [
            "Early Stopping!\n",
            "loaded best model\n"
          ]
        },
        {
          "output_type": "stream",
          "name": "stderr",
          "text": [
            "Some weights of the model checkpoint at cl-tohoku/bert-base-japanese-whole-word-masking were not used when initializing BertForSequenceClassification: ['cls.predictions.decoder.weight', 'cls.predictions.transform.LayerNorm.weight', 'cls.predictions.transform.LayerNorm.bias', 'cls.predictions.bias', 'cls.seq_relationship.weight', 'cls.seq_relationship.bias', 'cls.predictions.transform.dense.weight', 'cls.predictions.transform.dense.bias']\n",
            "- This IS expected if you are initializing BertForSequenceClassification from the checkpoint of a model trained on another task or with another architecture (e.g. initializing a BertForSequenceClassification model from a BertForPreTraining model).\n",
            "- This IS NOT expected if you are initializing BertForSequenceClassification from the checkpoint of a model that you expect to be exactly identical (initializing a BertForSequenceClassification model from a BertForSequenceClassification model).\n",
            "Some weights of BertForSequenceClassification were not initialized from the model checkpoint at cl-tohoku/bert-base-japanese-whole-word-masking and are newly initialized: ['classifier.weight', 'classifier.bias']\n",
            "You should probably TRAIN this model on a down-stream task to be able to use it for predictions and inference.\n"
          ]
        },
        {
          "output_type": "stream",
          "name": "stdout",
          "text": [
            "Early Stopping!\n",
            "loaded best model\n"
          ]
        },
        {
          "output_type": "stream",
          "name": "stderr",
          "text": [
            "Some weights of the model checkpoint at cl-tohoku/bert-base-japanese-whole-word-masking were not used when initializing BertForSequenceClassification: ['cls.predictions.decoder.weight', 'cls.predictions.transform.LayerNorm.weight', 'cls.predictions.transform.LayerNorm.bias', 'cls.predictions.bias', 'cls.seq_relationship.weight', 'cls.seq_relationship.bias', 'cls.predictions.transform.dense.weight', 'cls.predictions.transform.dense.bias']\n",
            "- This IS expected if you are initializing BertForSequenceClassification from the checkpoint of a model trained on another task or with another architecture (e.g. initializing a BertForSequenceClassification model from a BertForPreTraining model).\n",
            "- This IS NOT expected if you are initializing BertForSequenceClassification from the checkpoint of a model that you expect to be exactly identical (initializing a BertForSequenceClassification model from a BertForSequenceClassification model).\n",
            "Some weights of BertForSequenceClassification were not initialized from the model checkpoint at cl-tohoku/bert-base-japanese-whole-word-masking and are newly initialized: ['classifier.weight', 'classifier.bias']\n",
            "You should probably TRAIN this model on a down-stream task to be able to use it for predictions and inference.\n"
          ]
        },
        {
          "output_type": "stream",
          "name": "stdout",
          "text": [
            "Early Stopping!\n",
            "loaded best model\n"
          ]
        },
        {
          "output_type": "stream",
          "name": "stderr",
          "text": [
            "Some weights of the model checkpoint at cl-tohoku/bert-base-japanese-whole-word-masking were not used when initializing BertForSequenceClassification: ['cls.predictions.decoder.weight', 'cls.predictions.transform.LayerNorm.weight', 'cls.predictions.transform.LayerNorm.bias', 'cls.predictions.bias', 'cls.seq_relationship.weight', 'cls.seq_relationship.bias', 'cls.predictions.transform.dense.weight', 'cls.predictions.transform.dense.bias']\n",
            "- This IS expected if you are initializing BertForSequenceClassification from the checkpoint of a model trained on another task or with another architecture (e.g. initializing a BertForSequenceClassification model from a BertForPreTraining model).\n",
            "- This IS NOT expected if you are initializing BertForSequenceClassification from the checkpoint of a model that you expect to be exactly identical (initializing a BertForSequenceClassification model from a BertForSequenceClassification model).\n",
            "Some weights of BertForSequenceClassification were not initialized from the model checkpoint at cl-tohoku/bert-base-japanese-whole-word-masking and are newly initialized: ['classifier.weight', 'classifier.bias']\n",
            "You should probably TRAIN this model on a down-stream task to be able to use it for predictions and inference.\n"
          ]
        },
        {
          "output_type": "stream",
          "name": "stdout",
          "text": [
            "Early Stopping!\n",
            "loaded best model\n"
          ]
        },
        {
          "output_type": "stream",
          "name": "stderr",
          "text": [
            "Some weights of the model checkpoint at cl-tohoku/bert-base-japanese-whole-word-masking were not used when initializing BertForSequenceClassification: ['cls.predictions.decoder.weight', 'cls.predictions.transform.LayerNorm.weight', 'cls.predictions.transform.LayerNorm.bias', 'cls.predictions.bias', 'cls.seq_relationship.weight', 'cls.seq_relationship.bias', 'cls.predictions.transform.dense.weight', 'cls.predictions.transform.dense.bias']\n",
            "- This IS expected if you are initializing BertForSequenceClassification from the checkpoint of a model trained on another task or with another architecture (e.g. initializing a BertForSequenceClassification model from a BertForPreTraining model).\n",
            "- This IS NOT expected if you are initializing BertForSequenceClassification from the checkpoint of a model that you expect to be exactly identical (initializing a BertForSequenceClassification model from a BertForSequenceClassification model).\n",
            "Some weights of BertForSequenceClassification were not initialized from the model checkpoint at cl-tohoku/bert-base-japanese-whole-word-masking and are newly initialized: ['classifier.weight', 'classifier.bias']\n",
            "You should probably TRAIN this model on a down-stream task to be able to use it for predictions and inference.\n"
          ]
        },
        {
          "output_type": "stream",
          "name": "stdout",
          "text": [
            "Early Stopping!\n",
            "loaded best model\n"
          ]
        },
        {
          "output_type": "stream",
          "name": "stderr",
          "text": [
            "Some weights of the model checkpoint at cl-tohoku/bert-base-japanese-whole-word-masking were not used when initializing BertForSequenceClassification: ['cls.predictions.decoder.weight', 'cls.predictions.transform.LayerNorm.weight', 'cls.predictions.transform.LayerNorm.bias', 'cls.predictions.bias', 'cls.seq_relationship.weight', 'cls.seq_relationship.bias', 'cls.predictions.transform.dense.weight', 'cls.predictions.transform.dense.bias']\n",
            "- This IS expected if you are initializing BertForSequenceClassification from the checkpoint of a model trained on another task or with another architecture (e.g. initializing a BertForSequenceClassification model from a BertForPreTraining model).\n",
            "- This IS NOT expected if you are initializing BertForSequenceClassification from the checkpoint of a model that you expect to be exactly identical (initializing a BertForSequenceClassification model from a BertForSequenceClassification model).\n",
            "Some weights of BertForSequenceClassification were not initialized from the model checkpoint at cl-tohoku/bert-base-japanese-whole-word-masking and are newly initialized: ['classifier.weight', 'classifier.bias']\n",
            "You should probably TRAIN this model on a down-stream task to be able to use it for predictions and inference.\n"
          ]
        },
        {
          "output_type": "stream",
          "name": "stdout",
          "text": [
            "Early Stopping!\n",
            "loaded best model\n"
          ]
        },
        {
          "output_type": "stream",
          "name": "stderr",
          "text": [
            "Some weights of the model checkpoint at cl-tohoku/bert-base-japanese-whole-word-masking were not used when initializing BertForSequenceClassification: ['cls.predictions.decoder.weight', 'cls.predictions.transform.LayerNorm.weight', 'cls.predictions.transform.LayerNorm.bias', 'cls.predictions.bias', 'cls.seq_relationship.weight', 'cls.seq_relationship.bias', 'cls.predictions.transform.dense.weight', 'cls.predictions.transform.dense.bias']\n",
            "- This IS expected if you are initializing BertForSequenceClassification from the checkpoint of a model trained on another task or with another architecture (e.g. initializing a BertForSequenceClassification model from a BertForPreTraining model).\n",
            "- This IS NOT expected if you are initializing BertForSequenceClassification from the checkpoint of a model that you expect to be exactly identical (initializing a BertForSequenceClassification model from a BertForSequenceClassification model).\n",
            "Some weights of BertForSequenceClassification were not initialized from the model checkpoint at cl-tohoku/bert-base-japanese-whole-word-masking and are newly initialized: ['classifier.weight', 'classifier.bias']\n",
            "You should probably TRAIN this model on a down-stream task to be able to use it for predictions and inference.\n"
          ]
        },
        {
          "output_type": "stream",
          "name": "stdout",
          "text": [
            "Early Stopping!\n",
            "loaded best model\n"
          ]
        },
        {
          "output_type": "stream",
          "name": "stderr",
          "text": [
            "Some weights of the model checkpoint at cl-tohoku/bert-base-japanese-whole-word-masking were not used when initializing BertForSequenceClassification: ['cls.predictions.decoder.weight', 'cls.predictions.transform.LayerNorm.weight', 'cls.predictions.transform.LayerNorm.bias', 'cls.predictions.bias', 'cls.seq_relationship.weight', 'cls.seq_relationship.bias', 'cls.predictions.transform.dense.weight', 'cls.predictions.transform.dense.bias']\n",
            "- This IS expected if you are initializing BertForSequenceClassification from the checkpoint of a model trained on another task or with another architecture (e.g. initializing a BertForSequenceClassification model from a BertForPreTraining model).\n",
            "- This IS NOT expected if you are initializing BertForSequenceClassification from the checkpoint of a model that you expect to be exactly identical (initializing a BertForSequenceClassification model from a BertForSequenceClassification model).\n",
            "Some weights of BertForSequenceClassification were not initialized from the model checkpoint at cl-tohoku/bert-base-japanese-whole-word-masking and are newly initialized: ['classifier.weight', 'classifier.bias']\n",
            "You should probably TRAIN this model on a down-stream task to be able to use it for predictions and inference.\n"
          ]
        },
        {
          "output_type": "stream",
          "name": "stdout",
          "text": [
            "Early Stopping!\n",
            "loaded best model\n"
          ]
        },
        {
          "output_type": "stream",
          "name": "stderr",
          "text": [
            "Some weights of the model checkpoint at cl-tohoku/bert-base-japanese-whole-word-masking were not used when initializing BertForSequenceClassification: ['cls.predictions.decoder.weight', 'cls.predictions.transform.LayerNorm.weight', 'cls.predictions.transform.LayerNorm.bias', 'cls.predictions.bias', 'cls.seq_relationship.weight', 'cls.seq_relationship.bias', 'cls.predictions.transform.dense.weight', 'cls.predictions.transform.dense.bias']\n",
            "- This IS expected if you are initializing BertForSequenceClassification from the checkpoint of a model trained on another task or with another architecture (e.g. initializing a BertForSequenceClassification model from a BertForPreTraining model).\n",
            "- This IS NOT expected if you are initializing BertForSequenceClassification from the checkpoint of a model that you expect to be exactly identical (initializing a BertForSequenceClassification model from a BertForSequenceClassification model).\n",
            "Some weights of BertForSequenceClassification were not initialized from the model checkpoint at cl-tohoku/bert-base-japanese-whole-word-masking and are newly initialized: ['classifier.weight', 'classifier.bias']\n",
            "You should probably TRAIN this model on a down-stream task to be able to use it for predictions and inference.\n"
          ]
        },
        {
          "output_type": "stream",
          "name": "stdout",
          "text": [
            "Early Stopping!\n",
            "loaded best model\n"
          ]
        },
        {
          "output_type": "stream",
          "name": "stderr",
          "text": [
            "Some weights of the model checkpoint at cl-tohoku/bert-base-japanese-whole-word-masking were not used when initializing BertForSequenceClassification: ['cls.predictions.decoder.weight', 'cls.predictions.transform.LayerNorm.weight', 'cls.predictions.transform.LayerNorm.bias', 'cls.predictions.bias', 'cls.seq_relationship.weight', 'cls.seq_relationship.bias', 'cls.predictions.transform.dense.weight', 'cls.predictions.transform.dense.bias']\n",
            "- This IS expected if you are initializing BertForSequenceClassification from the checkpoint of a model trained on another task or with another architecture (e.g. initializing a BertForSequenceClassification model from a BertForPreTraining model).\n",
            "- This IS NOT expected if you are initializing BertForSequenceClassification from the checkpoint of a model that you expect to be exactly identical (initializing a BertForSequenceClassification model from a BertForSequenceClassification model).\n",
            "Some weights of BertForSequenceClassification were not initialized from the model checkpoint at cl-tohoku/bert-base-japanese-whole-word-masking and are newly initialized: ['classifier.weight', 'classifier.bias']\n",
            "You should probably TRAIN this model on a down-stream task to be able to use it for predictions and inference.\n"
          ]
        },
        {
          "output_type": "stream",
          "name": "stdout",
          "text": [
            "Early Stopping!\n",
            "loaded best model\n"
          ]
        },
        {
          "output_type": "stream",
          "name": "stderr",
          "text": [
            "Some weights of the model checkpoint at cl-tohoku/bert-base-japanese-whole-word-masking were not used when initializing BertForSequenceClassification: ['cls.predictions.decoder.weight', 'cls.predictions.transform.LayerNorm.weight', 'cls.predictions.transform.LayerNorm.bias', 'cls.predictions.bias', 'cls.seq_relationship.weight', 'cls.seq_relationship.bias', 'cls.predictions.transform.dense.weight', 'cls.predictions.transform.dense.bias']\n",
            "- This IS expected if you are initializing BertForSequenceClassification from the checkpoint of a model trained on another task or with another architecture (e.g. initializing a BertForSequenceClassification model from a BertForPreTraining model).\n",
            "- This IS NOT expected if you are initializing BertForSequenceClassification from the checkpoint of a model that you expect to be exactly identical (initializing a BertForSequenceClassification model from a BertForSequenceClassification model).\n",
            "Some weights of BertForSequenceClassification were not initialized from the model checkpoint at cl-tohoku/bert-base-japanese-whole-word-masking and are newly initialized: ['classifier.weight', 'classifier.bias']\n",
            "You should probably TRAIN this model on a down-stream task to be able to use it for predictions and inference.\n"
          ]
        },
        {
          "output_type": "stream",
          "name": "stdout",
          "text": [
            "Early Stopping!\n",
            "loaded best model\n"
          ]
        },
        {
          "output_type": "stream",
          "name": "stderr",
          "text": [
            "Some weights of the model checkpoint at cl-tohoku/bert-base-japanese-whole-word-masking were not used when initializing BertForSequenceClassification: ['cls.predictions.decoder.weight', 'cls.predictions.transform.LayerNorm.weight', 'cls.predictions.transform.LayerNorm.bias', 'cls.predictions.bias', 'cls.seq_relationship.weight', 'cls.seq_relationship.bias', 'cls.predictions.transform.dense.weight', 'cls.predictions.transform.dense.bias']\n",
            "- This IS expected if you are initializing BertForSequenceClassification from the checkpoint of a model trained on another task or with another architecture (e.g. initializing a BertForSequenceClassification model from a BertForPreTraining model).\n",
            "- This IS NOT expected if you are initializing BertForSequenceClassification from the checkpoint of a model that you expect to be exactly identical (initializing a BertForSequenceClassification model from a BertForSequenceClassification model).\n",
            "Some weights of BertForSequenceClassification were not initialized from the model checkpoint at cl-tohoku/bert-base-japanese-whole-word-masking and are newly initialized: ['classifier.weight', 'classifier.bias']\n",
            "You should probably TRAIN this model on a down-stream task to be able to use it for predictions and inference.\n"
          ]
        }
      ],
      "source": [
        "all_results={}\n",
        "import seaborn as sns\n",
        "import matplotlib.pyplot as plt\n",
        "sns.set()\n",
        "epochs = 25\n",
        "mb = master_bar(range(epochs))\n",
        "for n in mb:\n",
        "  # print('===== '+str(n)+\" =====\")\n",
        "  fix_seed(n)\n",
        "\n",
        "  # fig, ax = plt.subplots(1, 1)\n",
        "  train_losses = []\n",
        "  val_losses = []\n",
        "\n",
        "  earlystopping = EarlyStopping(patience=3, verbose=False,threshold=1)\n",
        "\n",
        "  dataloader_train = DataLoader(\n",
        "      dataset_train, batch_size=32, shuffle=True\n",
        "  ) \n",
        "  dataloader_val = DataLoader(dataset_val, batch_size=256)\n",
        "  dataloader_test = DataLoader(dataset_test, batch_size=256)\n",
        "\n",
        "  # モデルの読み込み\n",
        "  bert_sc = AutoModelForSequenceClassification.from_pretrained(\n",
        "            MODEL_NAME,\n",
        "            num_labels=9,\n",
        "            output_attentions = False,\n",
        "            output_hidden_states = False,\n",
        "        )\n",
        "  bert_sc.cuda()\n",
        "\n",
        "  optimizer = AdamW(bert_sc.parameters(), lr=2e-5)\n",
        "\n",
        "  for epoch in progress_bar(range(50),parent=mb):\n",
        "    # print(\"epoch: \"+str(epoch+1))\n",
        "    train_loss = train(bert_sc,dataloader_train)\n",
        "    train_losses.append(train_loss.to('cpu').detach().numpy().copy())\n",
        "    val_loss = validation(bert_sc,dataloader_val)\n",
        "    val_losses.append(val_loss.to('cpu').detach().numpy().copy())\n",
        "    # print(\"train loss: \"+str(train_loss))\n",
        "    # print(\"val loss: \"+str(val_loss))\n",
        "\n",
        "    earlystopping(train_loss, val_loss, bert_sc) #callメソッド呼び出し\n",
        "    if earlystopping.early_stop: #ストップフラグがTrueの場合、breakでforループを抜ける\n",
        "        print(\"Early Stopping!\")\n",
        "        break\n",
        "    if epoch==0:\n",
        "      continue\n",
        "    plot_loss_update(epoch+1, epochs, mb, np.array(train_losses), np.array(val_losses))\n",
        "\n",
        "  bert_sc.load_state_dict(torch.load('checkpoint_model.pth'))\n",
        "  print(\"loaded best model\")\n",
        "  all_results[n]=test_report(bert_sc,dataloader_test)\n",
        "\n",
        "\n",
        "with open(\"testset_\"+MODEL_NAME.replace(\"/\",\"_\")+\"_livedoor_morelong.pkl\",\"wb\") as f:\n",
        "  pickle.dump(all_results,f)\n",
        "  print(\"saved tes_list\")"
      ]
    },
    {
      "cell_type": "code",
      "execution_count": null,
      "metadata": {
        "id": "TutBHUYJO2YS"
      },
      "outputs": [],
      "source": [
        "# import pickle\n",
        "# with open(\"testset_\"+MODEL_NAME.replace(\"/\",\"_\")+\"_livedoor.pkl\",\"wb\") as f:\n",
        "#   pickle.dump(all_results,f)\n",
        "#   print(\"saved tes_list\")"
      ]
    },
    {
      "cell_type": "markdown",
      "metadata": {
        "id": "ec07VaOSPS79"
      },
      "source": [
        "## スコア分布"
      ]
    },
    {
      "cell_type": "code",
      "execution_count": null,
      "metadata": {
        "id": "FI6tUHisPS79"
      },
      "outputs": [],
      "source": [
        "import pickle\n",
        "with open(\"testset_\"+MODEL_NAME.replace(\"/\",\"_\")+\"_livedoor.pkl\",\"rb\")as f:\n",
        "  l = pickle.load(f)"
      ]
    },
    {
      "cell_type": "code",
      "source": [
        "import pickle\n",
        "with open(\"testset_\"+MODEL_NAME.replace(\"/\",\"_\")+\"_livedoor_morelong.pkl\",\"rb\")as f:\n",
        "  l = pickle.load(f)"
      ],
      "metadata": {
        "id": "6bIP3cDpMgGe"
      },
      "execution_count": null,
      "outputs": []
    },
    {
      "cell_type": "code",
      "execution_count": null,
      "metadata": {
        "id": "XoPfrU89PS7-"
      },
      "outputs": [],
      "source": [
        "acc_lis = [result['accuracy'] for result in l.values()]\n",
        "import matplotlib.pyplot as plt\n",
        "import seaborn as sns\n",
        "sns.set()"
      ]
    },
    {
      "cell_type": "code",
      "source": [
        "sns.histplot(acc_lis, kde=True)"
      ],
      "metadata": {
        "colab": {
          "base_uri": "https://localhost:8080/",
          "height": 285
        },
        "id": "zDx5MV-6M0hB",
        "outputId": "15e5acc1-0d7a-4d3a-a8c0-03a19c2e2d3f"
      },
      "execution_count": null,
      "outputs": [
        {
          "output_type": "execute_result",
          "data": {
            "text/plain": [
              "<matplotlib.axes._subplots.AxesSubplot at 0x7f92ba8bb950>"
            ]
          },
          "metadata": {},
          "execution_count": 9
        },
        {
          "output_type": "display_data",
          "data": {
            "image/png": "[encoded data removed]",
            "text/plain": [
              "<Figure size 432x288 with 1 Axes>"
            ]
          },
          "metadata": {}
        }
      ]
    },
    {
      "cell_type": "code",
      "execution_count": null,
      "metadata": {
        "id": "Aw_oS1k9PS7-",
        "colab": {
          "base_uri": "https://localhost:8080/",
          "height": 285
        },
        "outputId": "9ec7bf55-1a13-4887-bc17-7b0408655f9f"
      },
      "outputs": [
        {
          "output_type": "execute_result",
          "data": {
            "text/plain": [
              "<matplotlib.axes._subplots.AxesSubplot at 0x7f0300362c90>"
            ]
          },
          "metadata": {},
          "execution_count": 97
        },
        {
          "output_type": "display_data",
          "data": {
            "image/png": "[encoded data removed]",
            "text/plain": [
              "<Figure size 432x288 with 1 Axes>"
            ]
          },
          "metadata": {}
        }
      ],
      "source": [
        "sns.histplot(acc_lis, kde=True)"
      ]
    },
    {
      "cell_type": "code",
      "execution_count": null,
      "metadata": {
        "id": "00skH2S_PS7-"
      },
      "outputs": [],
      "source": [
        "from scipy import stats"
      ]
    },
    {
      "cell_type": "code",
      "execution_count": null,
      "metadata": {
        "id": "a6OMFKIIPS7-"
      },
      "outputs": [],
      "source": [
        "def interval_estimate(lis,alpha=0.95):\n",
        "  import numpy as np\n",
        "  lis = np.array(lis)\n",
        "  t_dist = stats.t(loc=lis.mean(),scale=np.sqrt(lis.var()/len(lis)),df=len(lis))\n",
        "  return t_dist.interval(alpha=alpha)"
      ]
    },
    {
      "cell_type": "code",
      "execution_count": null,
      "metadata": {
        "id": "N_aEIfRCPS7_"
      },
      "outputs": [],
      "source": [
        "interval_estimate(acc_lis)"
      ]
    },
    {
      "cell_type": "code",
      "execution_count": null,
      "metadata": {
        "id": "di19CHifPS7_"
      },
      "outputs": [],
      "source": [
        ""
      ]
    },
    {
      "cell_type": "code",
      "execution_count": null,
      "metadata": {
        "id": "GLFlz6MJPS7_"
      },
      "outputs": [],
      "source": [
        ""
      ]
    },
    {
      "cell_type": "code",
      "execution_count": null,
      "metadata": {
        "id": "IOIPW5t_PYes"
      },
      "outputs": [],
      "source": [
        ""
      ]
    },
    {
      "cell_type": "markdown",
      "metadata": {
        "id": "TNjbAalbPYzl"
      },
      "source": [
        "# RoBERTa"
      ]
    },
    {
      "cell_type": "code",
      "execution_count": null,
      "metadata": {
        "colab": {
          "background_save": true
        },
        "id": "6wH_tiQHPaCF"
      },
      "outputs": [],
      "source": [
        "# MODEL_NAME=\"bandainamco-mirai/distilbert-base-japanese\"\n",
        "# MODEL_NAME = \"cl-tohoku/bert-base-japanese-whole-word-masking\"\n",
        "MODEL_NAME = \"rinna/japanese-roberta-base\""
      ]
    },
    {
      "cell_type": "markdown",
      "metadata": {
        "id": "Vvhn6fv9PcLI"
      },
      "source": [
        "##トークン化"
      ]
    },
    {
      "cell_type": "code",
      "execution_count": null,
      "metadata": {
        "colab": {
          "background_save": true,
          "referenced_widgets": [
            "01425d82527a495fa8ba5028558ea04a"
          ]
        },
        "id": "um2Sbk77PcLL",
        "outputId": "4f499213-7b0e-42c0-fd7e-1b411c547133"
      },
      "outputs": [
        {
          "data": {
            "application/vnd.jupyter.widget-view+json": {
              "model_id": "01425d82527a495fa8ba5028558ea04a",
              "version_major": 2,
              "version_minor": 0
            },
            "text/plain": [
              "  0%|          | 0/9 [00:00<?, ?it/s]"
            ]
          },
          "metadata": {},
          "output_type": "display_data"
        }
      ],
      "source": [
        "# トークナイザのロード\n",
        "if MODEL_NAME ==\"bandainamco-mirai/distilbert-base-japanese\":\n",
        "  tokenizer = AutoTokenizer.from_pretrained('cl-tohoku/bert-base-japanese-whole-word-masking')\n",
        "elif MODEL_NAME== \"rinna/japanese-roberta-base\":\n",
        "  tokenizer = T5Tokenizer.from_pretrained(\"rinna/japanese-roberta-base\")\n",
        "else:\n",
        "  tokenizer = AutoTokenizer.from_pretrained(MODEL_NAME)\n",
        "\n",
        "# 各データの形式を整える\n",
        "max_length = 256\n",
        "dataset_for_loader = []\n",
        "for label, category in enumerate(tqdm(category_list)):\n",
        "    for file in glob.glob(f'./text/{category}/{category}*'):\n",
        "        lines = open(file).read().splitlines()\n",
        "        text = '\\n'.join(lines[3:]) # ファイルの4行目からを抜き出す。\n",
        "        encoding = tokenizer(\n",
        "            text,\n",
        "            max_length=max_length, \n",
        "            padding='max_length',\n",
        "            truncation=True\n",
        "        )\n",
        "        encoding['labels'] = label # ラベルを追加\n",
        "        encoding = { k: torch.tensor(v) for k, v in encoding.items() }\n",
        "        dataset_for_loader.append(encoding)"
      ]
    },
    {
      "cell_type": "code",
      "execution_count": null,
      "metadata": {
        "colab": {
          "background_save": true
        },
        "id": "aL89HEGlPcLN"
      },
      "outputs": [],
      "source": [
        "import pickle\n",
        "with open(\"livedoor_\"+MODEL_NAME.replace(\"/\",\"_\")+\"_tokenized.pkl\",\"wb\") as f:\n",
        "  pickle.dump(dataset_for_loader,f)\n",
        "\n",
        "with open(\"livedoor_\"+MODEL_NAME.replace(\"/\",\"_\")+\"_tokenized.pkl\",\"rb\") as f:\n",
        "  dataset_for_loader = pickle.load(f)"
      ]
    },
    {
      "cell_type": "code",
      "execution_count": null,
      "metadata": {
        "colab": {
          "background_save": true
        },
        "id": "2GNSHmxTPcLO"
      },
      "outputs": [],
      "source": [
        "print(dataset_for_loader[0])"
      ]
    },
    {
      "cell_type": "markdown",
      "metadata": {
        "id": "EE8ULlnkPcLP"
      },
      "source": [
        "## データセットの分割"
      ]
    },
    {
      "cell_type": "code",
      "execution_count": null,
      "metadata": {
        "colab": {
          "background_save": true
        },
        "id": "JopJbgZxPcLP"
      },
      "outputs": [],
      "source": [
        "# データセットの分割\n",
        "fix_seed(0)\n",
        "random.shuffle(dataset_for_loader) # ランダムにシャッフル\n",
        "n = len(dataset_for_loader)\n",
        "n_train = int(0.6*n)\n",
        "n_val = int(0.2*n)+n_train\n",
        "dataset_train = dataset_for_loader[:n_train] # 学習データ\n",
        "dataset_val = dataset_for_loader[n_train:n_val]\n",
        "dataset_test = dataset_for_loader[n_val:] # テストデータ"
      ]
    },
    {
      "cell_type": "markdown",
      "metadata": {
        "id": "ZaHTQ0CgPcLQ"
      },
      "source": [
        "## 学習"
      ]
    },
    {
      "cell_type": "code",
      "execution_count": null,
      "metadata": {
        "colab": {
          "background_save": true
        },
        "id": "mtCmq8rVPcLQ"
      },
      "outputs": [],
      "source": [
        "all_results={}\n",
        "\n",
        "for n in trange(25):\n",
        "  # print('===== '+str(n)+\" =====\")\n",
        "  fix_seed(n)\n",
        "\n",
        "  earlystopping = EarlyStopping(patience=3, verbose=True)\n",
        "\n",
        "  dataloader_train = DataLoader(\n",
        "      dataset_train, batch_size=32, shuffle=True\n",
        "  ) \n",
        "  dataloader_val = DataLoader(dataset_val, batch_size=256)\n",
        "  dataloader_test = DataLoader(dataset_test, batch_size=256)\n",
        "\n",
        "  # モデルの読み込み\n",
        "  bert_sc = AutoModelForSequenceClassification.from_pretrained(\n",
        "            MODEL_NAME,\n",
        "            num_labels=9,\n",
        "            output_attentions = False,\n",
        "            output_hidden_states = False,\n",
        "        )\n",
        "  bert_sc.cuda()\n",
        "\n",
        "  optimizer = AdamW(bert_sc.parameters(), lr=2e-5)\n",
        "\n",
        "  for epoch in range(30):\n",
        "    # print(\"epoch: \"+str(epoch+1))\n",
        "    train_loss = train(bert_sc,dataloader_train)\n",
        "    val_loss = validation(bert_sc,dataloader_val)\n",
        "    print(\"train loss: \"+str(train_loss))\n",
        "    # print(\"val loss: \"+str(val_loss))\n",
        "\n",
        "    earlystopping(val_loss, bert_sc) #callメソッド呼び出し\n",
        "    if earlystopping.early_stop: #ストップフラグがTrueの場合、breakでforループを抜ける\n",
        "        print(\"Early Stopping!\")\n",
        "        break\n",
        "  bert_sc.load_state_dict(torch.load('checkpoint_model.pth'))\n",
        "  print(\"loaded best model\")\n",
        "  all_results[n]=test_report(bert_sc,dataloader_test)\n",
        "\n",
        "\n",
        "with open(\"testset_\"+MODEL_NAME.replace(\"/\",\"_\")+\"_livedoor.pkl\",\"wb\") as f:\n",
        "  pickle.dump(all_results,f)\n",
        "  print(\"saved tes_list\")"
      ]
    },
    {
      "cell_type": "code",
      "execution_count": null,
      "metadata": {
        "colab": {
          "background_save": true
        },
        "id": "GA7cDGcLPcLR"
      },
      "outputs": [],
      "source": [
        "# import pickle\n",
        "# with open(\"testset_\"+MODEL_NAME.replace(\"/\",\"_\")+\"_livedoor.pkl\",\"wb\") as f:\n",
        "#   pickle.dump(all_results,f)\n",
        "#   print(\"saved tes_list\")"
      ]
    },
    {
      "cell_type": "code",
      "execution_count": null,
      "metadata": {
        "colab": {
          "background_save": true
        },
        "id": "tSw0nGqFPcLS"
      },
      "outputs": [],
      "source": [
        ""
      ]
    },
    {
      "cell_type": "markdown",
      "metadata": {
        "id": "V6sRMP4YPcLS"
      },
      "source": [
        "## スコア分布"
      ]
    },
    {
      "cell_type": "code",
      "execution_count": null,
      "metadata": {
        "id": "IfO0RHdvPcLS"
      },
      "outputs": [],
      "source": [
        "import pickle\n",
        "with open(\"testset_\"+MODEL_NAME.replace(\"/\",\"_\")+\"_livedoor.pkl\",\"rb\")as f:\n",
        "  l = pickle.load(f)"
      ]
    },
    {
      "cell_type": "code",
      "execution_count": null,
      "metadata": {
        "id": "cgGJ4qWiPcLT"
      },
      "outputs": [],
      "source": [
        "acc_lis = [result['accuracy'] for result in l.values()]\n",
        "import matplotlib.pyplot as plt\n",
        "import seaborn as sns\n",
        "sns.set()"
      ]
    },
    {
      "cell_type": "code",
      "execution_count": null,
      "metadata": {
        "colab": {
          "base_uri": "https://localhost:8080/",
          "height": 285
        },
        "id": "7_eHdJ2wPcLT",
        "outputId": "7e121220-132e-497f-a7c3-76e21ce6aa85"
      },
      "outputs": [
        {
          "output_type": "execute_result",
          "data": {
            "text/plain": [
              "<matplotlib.axes._subplots.AxesSubplot at 0x7f02a9b38310>"
            ]
          },
          "metadata": {},
          "execution_count": 92
        },
        {
          "output_type": "display_data",
          "data": {
            "image/png": "[encoded data removed]",
            "text/plain": [
              "<Figure size 432x288 with 1 Axes>"
            ]
          },
          "metadata": {}
        }
      ],
      "source": [
        "sns.histplot(acc_lis, kde=True)"
      ]
    },
    {
      "cell_type": "code",
      "execution_count": null,
      "metadata": {
        "colab": {
          "background_save": true
        },
        "id": "8vQm_VyiPcLU"
      },
      "outputs": [],
      "source": [
        "from scipy import stats"
      ]
    },
    {
      "cell_type": "code",
      "execution_count": null,
      "metadata": {
        "colab": {
          "background_save": true
        },
        "id": "a22u99hQPcLU"
      },
      "outputs": [],
      "source": [
        "def interval_estimate(lis,alpha=0.95):\n",
        "  import numpy as np\n",
        "  lis = np.array(lis)\n",
        "  t_dist = stats.t(loc=lis.mean(),scale=np.sqrt(lis.var()/len(lis)),df=len(lis))\n",
        "  return t_dist.interval(alpha=alpha)"
      ]
    },
    {
      "cell_type": "code",
      "execution_count": null,
      "metadata": {
        "colab": {
          "background_save": true
        },
        "id": "6W2_hUYXPcLU",
        "outputId": "e36f69f8-c81e-4320-bae7-0be54ca3241b"
      },
      "outputs": [
        {
          "data": {
            "text/plain": [
              "(0.9216157836568857, 0.9266338771300886)"
            ]
          },
          "execution_count": null,
          "metadata": {},
          "output_type": "execute_result"
        }
      ],
      "source": [
        "interval_estimate(acc_lis)"
      ]
    },
    {
      "cell_type": "code",
      "execution_count": null,
      "metadata": {
        "colab": {
          "background_save": true
        },
        "id": "N6FGMzKHPcLV"
      },
      "outputs": [],
      "source": [
        ""
      ]
    },
    {
      "cell_type": "code",
      "execution_count": null,
      "metadata": {
        "colab": {
          "background_save": true
        },
        "id": "uIKLTwVhPcLV"
      },
      "outputs": [],
      "source": [
        ""
      ]
    },
    {
      "cell_type": "code",
      "execution_count": null,
      "metadata": {
        "colab": {
          "background_save": true
        },
        "id": "B7ktGAVnPcLW"
      },
      "outputs": [],
      "source": [
        ""
      ]
    }
  ],
  "metadata": {
    "colab": {
      "background_execution": "on",
      "collapsed_sections": [
        "a4jcc28nPLYF",
        "VBgU4LwZO2Rx",
        "TNjbAalbPYzl"
      ],
      "name": "RS_JP_livdoor.ipynb",
      "provenance": []
    },
    "kernelspec": {
      "display_name": "Python 3",
      "name": "python3"
    },
    "language_info": {
      "name": "python"
    },
    "accelerator": "GPU"
  },
  "nbformat": 4,
  "nbformat_minor": 0
}